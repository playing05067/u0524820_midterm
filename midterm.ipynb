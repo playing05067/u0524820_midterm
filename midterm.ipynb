{
 "cells": [
  {
   "cell_type": "code",
   "execution_count": 7,
   "metadata": {
    "collapsed": true
   },
   "outputs": [],
   "source": [
    "# coding:utf-8"
   ]
  },
  {
   "cell_type": "code",
   "execution_count": 8,
   "metadata": {
    "collapsed": false
   },
   "outputs": [
    {
     "data": {
      "text/plain": [
       "'\\nfrom urllib2 import urlopen\\nfrom contextlib import closing\\nurl = \"http://aima.cs.berkeley.edu/data/iris.csv\"\\nwith closing(urlopen(url)) as u, open(\"iris.csv\", \"w\") as f:\\n f.write(u.read())\\n'"
      ]
     },
     "execution_count": 8,
     "metadata": {},
     "output_type": "execute_result"
    }
   ],
   "source": [
    "'''\n",
    "from urllib2 import urlopen\n",
    "from contextlib import closing\n",
    "url = \"http://aima.cs.berkeley.edu/data/iris.csv\"\n",
    "with closing(urlopen(url)) as u, open(\"iris.csv\", \"w\") as f:\n",
    " f.write(u.read())\n",
    "'''"
   ]
  },
  {
   "cell_type": "code",
   "execution_count": 9,
   "metadata": {
    "collapsed": false
   },
   "outputs": [
    {
     "data": {
      "text/plain": [
       "'/Users/apple'"
      ]
     },
     "execution_count": 9,
     "metadata": {},
     "output_type": "execute_result"
    }
   ],
   "source": [
    "import os \n",
    "os.getcwd()"
   ]
  },
  {
   "cell_type": "code",
   "execution_count": 10,
   "metadata": {
    "collapsed": false
   },
   "outputs": [
    {
     "data": {
      "text/plain": [
       "['.anaconda',\n",
       " '.android',\n",
       " '.bash_history',\n",
       " '.bash_profile',\n",
       " '.bash_sessions',\n",
       " '.CFUserTextEncoding',\n",
       " '.condarc',\n",
       " '.config',\n",
       " '.continuum',\n",
       " '.cups',\n",
       " '.DS_Store',\n",
       " '.eclipse',\n",
       " '.gitconfig',\n",
       " '.ipynb_checkpoints',\n",
       " '.ipython',\n",
       " '.jssc',\n",
       " '.jupyter',\n",
       " '.oracle_jre_usage',\n",
       " '.p2',\n",
       " '.Rapp.history',\n",
       " '.Rhistory',\n",
       " '.rstudio-desktop',\n",
       " '.ssh',\n",
       " '.subversion',\n",
       " '.tooling',\n",
       " '.Trash',\n",
       " '.viminfo',\n",
       " '.wget-hsts',\n",
       " '.zenmap',\n",
       " '123 .html',\n",
       " 'anaconda',\n",
       " 'AnacondaProjects',\n",
       " 'Applications',\n",
       " 'buttonhelloworld',\n",
       " 'bwgex',\n",
       " 'Desktop',\n",
       " 'Documents',\n",
       " 'Downloads',\n",
       " 'GATTinBluetooth',\n",
       " 'gps.json',\n",
       " 'gps.json.1',\n",
       " 'gps.json.2',\n",
       " 'gps.json.3',\n",
       " 'gps2.json',\n",
       " 'IOT_course',\n",
       " 'iris.csv',\n",
       " 'jsbin.fihozihere.1.html',\n",
       " 'Library',\n",
       " 'LuaNode',\n",
       " 'Movies',\n",
       " 'Music',\n",
       " 'nodemcu-prebuilt-toolchains',\n",
       " 'Pictures',\n",
       " 'plot_lda.ipynb',\n",
       " 'Public',\n",
       " 'test.html',\n",
       " 'test.py',\n",
       " 'Untitled.ipynb',\n",
       " 'untitled.txt',\n",
       " 'Untitled1.ipynb',\n",
       " 'VirtualBox VMs']"
      ]
     },
     "execution_count": 10,
     "metadata": {},
     "output_type": "execute_result"
    }
   ],
   "source": [
    "os.listdir('/Users/apple')"
   ]
  },
  {
   "cell_type": "code",
   "execution_count": 11,
   "metadata": {
    "collapsed": true
   },
   "outputs": [],
   "source": [
    "from numpy import genfromtxt, zeros\n",
    "# read the first 4 columns\n",
    "data = genfromtxt(\"iris.csv\",delimiter=\",\",usecols=(0,1,2,3))\n",
    "# read the fifth column\n",
    "# this fifth column is the label (or target)\n",
    "target = genfromtxt(\"iris.csv\",delimiter=\",\",usecols=(4),dtype=str)\n"
   ]
  },
  {
   "cell_type": "code",
   "execution_count": 12,
   "metadata": {
    "collapsed": false
   },
   "outputs": [
    {
     "name": "stdout",
     "output_type": "stream",
     "text": [
      "(150, 4)\n",
      "(150,)\n"
     ]
    }
   ],
   "source": [
    "print data.shape\n",
    "print target.shape"
   ]
  },
  {
   "cell_type": "code",
   "execution_count": 13,
   "metadata": {
    "collapsed": false
   },
   "outputs": [
    {
     "name": "stdout",
     "output_type": "stream",
     "text": [
      "set(['setosa', 'versicolor', 'virginica'])\n"
     ]
    }
   ],
   "source": [
    "print set(target)"
   ]
  },
  {
   "cell_type": "code",
   "execution_count": 14,
   "metadata": {
    "collapsed": true
   },
   "outputs": [],
   "source": [
    "t = zeros(len(target))\n",
    "t[target == \"setosa\"] = 1\n",
    "t[target == \"versicolor\"] = 2\n",
    "t[target == \"virginica\"] = 3\n"
   ]
  },
  {
   "cell_type": "code",
   "execution_count": 15,
   "metadata": {
    "collapsed": true
   },
   "outputs": [],
   "source": [
    "# import 你的演算法\n",
    "from sklearn.discriminant_analysis import LinearDiscriminantAnalysis\n"
   ]
  },
  {
   "cell_type": "code",
   "execution_count": 16,
   "metadata": {
    "collapsed": false
   },
   "outputs": [],
   "source": [
    "# 建構你的訓練模型並且餵入資料集\n",
    "LinearDiscrimnat_clf = LinearDiscriminantAnalysis(solver='lsqr', shrinkage='auto').fit(data, t)\n"
   ]
  },
  {
   "cell_type": "code",
   "execution_count": 17,
   "metadata": {
    "collapsed": false
   },
   "outputs": [
    {
     "name": "stdout",
     "output_type": "stream",
     "text": [
      "[ 1.]\n"
     ]
    },
    {
     "name": "stderr",
     "output_type": "stream",
     "text": [
      "/Users/apple/anaconda/lib/python2.7/site-packages/sklearn/utils/validation.py:395: DeprecationWarning: Passing 1d arrays as data is deprecated in 0.17 and will raise ValueError in 0.19. Reshape your data either using X.reshape(-1, 1) if your data has a single feature or X.reshape(1, -1) if it contains a single sample.\n",
      "  DeprecationWarning)\n"
     ]
    }
   ],
   "source": [
    "print LinearDiscrimnat_clf.predict(data[0])\n"
   ]
  },
  {
   "cell_type": "code",
   "execution_count": 18,
   "metadata": {
    "collapsed": false
   },
   "outputs": [
    {
     "name": "stdout",
     "output_type": "stream",
     "text": [
      "1.0\n"
     ]
    }
   ],
   "source": [
    "print t[0]\n"
   ]
  },
  {
   "cell_type": "code",
   "execution_count": 19,
   "metadata": {
    "collapsed": false
   },
   "outputs": [],
   "source": [
    "from sklearn import cross_validation\n",
    "train, test, t_train, t_test = cross_validation.train_test_split(data, t,test_size=0.4, random_state=0)\n"
   ]
  },
  {
   "cell_type": "code",
   "execution_count": 20,
   "metadata": {
    "collapsed": false
   },
   "outputs": [
    {
     "name": "stdout",
     "output_type": "stream",
     "text": [
      "0.933333333333\n"
     ]
    }
   ],
   "source": [
    "LinearDiscrimnat_clf.fit(train,t_train) # train\n",
    "print LinearDiscrimnat_clf.score(test,t_test) # test\n"
   ]
  },
  {
   "cell_type": "code",
   "execution_count": 21,
   "metadata": {
    "collapsed": false
   },
   "outputs": [
    {
     "name": "stdout",
     "output_type": "stream",
     "text": [
      "[[16  0  0]\n",
      " [ 0 23  4]\n",
      " [ 0  0 17]]\n"
     ]
    }
   ],
   "source": [
    "from sklearn.metrics import confusion_matrix\n",
    "print confusion_matrix(LinearDiscrimnat_clf.predict(test),t_test)\n"
   ]
  },
  {
   "cell_type": "code",
   "execution_count": 22,
   "metadata": {
    "collapsed": false,
    "scrolled": true
   },
   "outputs": [
    {
     "name": "stdout",
     "output_type": "stream",
     "text": [
      "             precision    recall  f1-score   support\n",
      "\n",
      "     setosa       1.00      1.00      1.00        16\n",
      " versicolor       1.00      0.85      0.92        27\n",
      "  virginica       0.81      1.00      0.89        17\n",
      "\n",
      "avg / total       0.95      0.93      0.93        60\n",
      "\n"
     ]
    }
   ],
   "source": [
    "from sklearn.metrics import classification_report\n",
    "print classification_report(LinearDiscrimnat_clf.predict(test), t_test,target_names=[\"setosa\", \"versicolor\", \"virginica\"])\n"
   ]
  },
  {
   "cell_type": "code",
   "execution_count": 23,
   "metadata": {
    "collapsed": false
   },
   "outputs": [
    {
     "name": "stdout",
     "output_type": "stream",
     "text": [
      "[ 1.          1.          0.95833333  0.91666667  1.          1.        ]\n"
     ]
    }
   ],
   "source": [
    "from sklearn.cross_validation import cross_val_score\n",
    "# cross validation with 6 iterations\n",
    "scores = cross_val_score(LinearDiscrimnat_clf, data, t, cv=6)\n",
    "print scores"
   ]
  },
  {
   "cell_type": "code",
   "execution_count": 24,
   "metadata": {
    "collapsed": false
   },
   "outputs": [
    {
     "name": "stdout",
     "output_type": "stream",
     "text": [
      "0.979166666667\n"
     ]
    }
   ],
   "source": [
    "from numpy import mean \n",
    "print mean(scores)"
   ]
  }
 ],
 "metadata": {
  "kernelspec": {
   "display_name": "Python 2",
   "language": "python",
   "name": "python2"
  },
  "language_info": {
   "codemirror_mode": {
    "name": "ipython",
    "version": 2
   },
   "file_extension": ".py",
   "mimetype": "text/x-python",
   "name": "python",
   "nbconvert_exporter": "python",
   "pygments_lexer": "ipython2",
   "version": "2.7.13"
  }
 },
 "nbformat": 4,
 "nbformat_minor": 2
}
